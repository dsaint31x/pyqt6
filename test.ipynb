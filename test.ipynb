{
 "cells": [
  {
   "cell_type": "code",
   "execution_count": 2,
   "metadata": {},
   "outputs": [
    {
     "name": "stdout",
     "output_type": "stream",
     "text": [
      "'test'\n"
     ]
    }
   ],
   "source": [
    "from pprint import pprint\n",
    "\n",
    "\n",
    "pprint('test')"
   ]
  },
  {
   "cell_type": "code",
   "execution_count": 3,
   "metadata": {},
   "outputs": [
    {
     "name": "stdout",
     "output_type": "stream",
     "text": [
      "{'a': 1, 'b': 2, 'c': 3}\n"
     ]
    }
   ],
   "source": [
    "l = {'a':1, 'b':2, 'c':3}\n",
    "\n",
    "pprint(l)"
   ]
  },
  {
   "cell_type": "code",
   "execution_count": 4,
   "metadata": {},
   "outputs": [
    {
     "data": {
      "text/plain": [
       "{'a': 1, 'b': 2, 'c': 3}"
      ]
     },
     "execution_count": 4,
     "metadata": {},
     "output_type": "execute_result"
    }
   ],
   "source": [
    "l"
   ]
  },
  {
   "cell_type": "code",
   "execution_count": 5,
   "metadata": {},
   "outputs": [
    {
     "name": "stdout",
     "output_type": "stream",
     "text": [
      "기본 print:\n",
      "{'name': 'Alice', 'age': 25, 'address': {'city': 'Seoul', 'zipcode': '12345'}, 'hobbies': ['reading', 'cycling', 'hiking'], 'scores': {'math': 95, 'english': 88, 'science': 92}}\n",
      "\n",
      "pprint 사용:\n",
      "{'address': {'city': 'Seoul', 'zipcode': '12345'},\n",
      " 'age': 25,\n",
      " 'hobbies': ['reading', 'cycling', 'hiking'],\n",
      " 'name': 'Alice',\n",
      " 'scores': {'english': 88, 'math': 95, 'science': 92}}\n"
     ]
    }
   ],
   "source": [
    "import pprint\n",
    "\n",
    "data = {\n",
    "    \"name\": \"Alice\",\n",
    "    \"age\": 25,\n",
    "    \"address\": {\n",
    "        \"city\": \"Seoul\",\n",
    "        \"zipcode\": \"12345\"\n",
    "    },\n",
    "    \"hobbies\": [\"reading\", \"cycling\", \"hiking\"],\n",
    "    \"scores\": {\"math\": 95, \"english\": 88, \"science\": 92}\n",
    "}\n",
    "\n",
    "# 기본 print 사용\n",
    "print(\"기본 print:\")\n",
    "print(data)\n",
    "\n",
    "# pprint 사용\n",
    "print(\"\\npprint 사용:\")\n",
    "pprint.pprint(data)"
   ]
  },
  {
   "cell_type": "code",
   "execution_count": null,
   "metadata": {},
   "outputs": [],
   "source": []
  }
 ],
 "metadata": {
  "kernelspec": {
   "display_name": "Python 3",
   "language": "python",
   "name": "python3"
  },
  "language_info": {
   "codemirror_mode": {
    "name": "ipython",
    "version": 3
   },
   "file_extension": ".py",
   "mimetype": "text/x-python",
   "name": "python",
   "nbconvert_exporter": "python",
   "pygments_lexer": "ipython3",
   "version": "3.13.1"
  }
 },
 "nbformat": 4,
 "nbformat_minor": 2
}
